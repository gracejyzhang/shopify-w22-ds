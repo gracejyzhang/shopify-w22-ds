{
 "cells": [
  {
   "cell_type": "markdown",
   "metadata": {},
   "source": [
    "# Shopify Winter 2022 Data Science Intern Challenge"
   ]
  },
  {
   "cell_type": "code",
   "execution_count": 1,
   "metadata": {},
   "outputs": [],
   "source": [
    "import pandas as pd"
   ]
  },
  {
   "cell_type": "markdown",
   "metadata": {},
   "source": [
    "### Question 1"
   ]
  },
  {
   "cell_type": "markdown",
   "metadata": {},
   "source": [
    "**Part A:** What is going wrong with our calculation is that there are outliers - user 607 made 17 orders of 2000 items, while all other orders have a maximum of 8 items. In addition, there appears to be one shop selling very expensive sneakers - shop 78 sells sneakers for \\\\$25725.00 while other stores sell sneakers for a max of \\\\$352.00.\n",
    "\n",
    "**Part B:** There are multiple better ways to evaluate this data. If we are still interested in average order value (rather than average item value), we have a few options:\n",
    "\n",
    "1) Take a more robust measure of location like the median or mode.\n",
    "\n",
    "2) Remove the outliers completely and only take the average of orders with < 2000 items and < \\\\$25725.00 sneakers. This may be difficult to scale as more data comes in and the threshold becomes blurrier. \n",
    "\n",
    "Otherwise, another potential metric could be the average item value depending on what exactly we are interested in.\n",
    "\n",
    "**Part C:** Using the two metrics as described above, we get the following values:\n",
    "\n",
    "1) Median and mode = \\\\$284.00\n",
    "\n",
    "2) Mean of order_amount without outliers: \\\\$302.58"
   ]
  },
  {
   "cell_type": "code",
   "execution_count": 2,
   "metadata": {},
   "outputs": [
    {
     "data": {
      "text/plain": [
       "total_items  user_id\n",
       "2000         607        17\n",
       "8            733         1\n",
       "6            993         1\n",
       "             934         1\n",
       "             883         1\n",
       "dtype: int64"
      ]
     },
     "metadata": {},
     "output_type": "display_data"
    },
    {
     "data": {
      "text/plain": [
       "price_per_item  shop_id\n",
       "25725.0         78         46\n",
       "352.0           42         51\n",
       "201.0           12         53\n",
       "196.0           89         61\n",
       "195.0           99         54\n",
       "dtype: int64"
      ]
     },
     "metadata": {},
     "output_type": "display_data"
    },
    {
     "name": "stdout",
     "output_type": "stream",
     "text": [
      "Mean of order_amount: 3145.128\n",
      "Median of order_amount: 284.0\n",
      "Mode of order_amount: 284.0\n",
      "Mean of order_amount without outliers: 302.58051448247926\n"
     ]
    }
   ],
   "source": [
    "df = pd.read_csv('2019 Winter Data Science Intern Challenge Data Set.csv')\n",
    "\n",
    "display(df[['total_items', 'user_id']].groupby(['total_items', 'user_id']).size().sort_index(ascending=False)[:5])\n",
    "\n",
    "df['price_per_item'] = df['order_amount'] / df['total_items']\n",
    "display(df[['price_per_item', 'shop_id']].groupby(['price_per_item', 'shop_id']).size().sort_index(ascending=False)[:5])\n",
    "\n",
    "print(f'Mean of order_amount: {df[\"order_amount\"].mean()}')\n",
    "print(f'Median of order_amount: {df[\"order_amount\"].median()}')\n",
    "print(f'Mode of order_amount: {df[\"order_amount\"].median()}')\n",
    "\n",
    "df_no_outliers = df[(df['total_items'] < 2000) & (df['price_per_item'] < 25725)]\n",
    "print(f'Mean of order_amount without outliers: {df_no_outliers[\"order_amount\"].mean()}')"
   ]
  },
  {
   "cell_type": "markdown",
   "metadata": {},
   "source": [
    "### Question 2"
   ]
  },
  {
   "cell_type": "markdown",
   "metadata": {},
   "source": [
    "**Part A:** 54 orders were shipped by Speedy Express in total.\n",
    "\n",
    "SELECT COUNT(Orders.OrderId) AS NumOrders, Shippers.ShipperName FROM Orders INNER JOIN Shippers ON Orders.ShipperId = Shippers.ShipperId WHERE Shippers.ShipperName = 'Speedy Express' GROUP BY Shippers.ShipperName \n",
    "\n",
    "**Part B:** The last name of the employee with the most orders is Peacock.\n",
    "\n",
    "SELECT COUNT(Orders.OrderId) AS NumOrders, Employees.EmployeeID, Employees.LastName FROM Orders INNER JOIN Employees ON Orders.EmployeeID = Employees.EmployeeID GROUP BY Employees.EmployeeID, Employees.LastName ORDER BY 1 DESC \n",
    "\n",
    "**Part C:** The product ordered by the most customers in Germany was Gorgonzola Telino.\n",
    "\n",
    "SELECT COUNT(c.OrderID) AS NumOrders, p.ProductName FROM (SELECT Orders.OrderID FROM Orders INNER JOIN Customers ON Orders.CustomerID = Customers.CustomerID WHERE Customers.Country = 'Germany') AS c INNER JOIN (SELECT OrderDetails.OrderID, Products.ProductName FROM OrderDetails INNER JOIN Products ON OrderDetails.ProductID = Products.ProductID) AS p ON c.OrderID = p.OrderID GROUP BY p.ProductName ORDER BY 1 DESC"
   ]
  }
 ],
 "metadata": {
  "kernelspec": {
   "display_name": "Python [conda env:myenv]",
   "language": "python",
   "name": "conda-env-myenv-py"
  },
  "language_info": {
   "codemirror_mode": {
    "name": "ipython",
    "version": 3
   },
   "file_extension": ".py",
   "mimetype": "text/x-python",
   "name": "python",
   "nbconvert_exporter": "python",
   "pygments_lexer": "ipython3",
   "version": "3.8.10"
  }
 },
 "nbformat": 4,
 "nbformat_minor": 4
}
